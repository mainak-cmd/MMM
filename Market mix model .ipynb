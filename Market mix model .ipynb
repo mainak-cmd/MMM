{
 "cells": [
  {
   "cell_type": "raw",
   "id": "a12c2847",
   "metadata": {},
   "source": [
    "Project Name : Market Mix Modeling of products\n",
    "Data source : Amazon.in\n",
    "Creator: Mainak Ray"
   ]
  },
  {
   "cell_type": "markdown",
   "id": "96e090f3",
   "metadata": {},
   "source": [
    "# Motivation"
   ]
  },
  {
   "cell_type": "markdown",
   "id": "f86c30dd",
   "metadata": {},
   "source": [
    "The purpose of the marketing mix is to find the right combination of products, prices, promotions, and distribution (place) so that a company can gain and maintain an advantage over competitors. The project aims to determine the amount of promotion that is required for a product based on the total amount of stock present and also consumer sentiment. For example, if a product name Hornby 2014 Catalogue has positive sentiments based on consumer reviews as well as affordable, in the future, it will have comparatively fewer stocks than other products, so the product does not require more funds for promotion as it is already popular.on the other hand, if the same product has negative sentiment and but the price is affordable it will require funds for quality management as well as promotion. Thus by understanding the stock movement based on customer reviews and product prices we can easily determine the right combination of products, prices, promotions, and distribution (place)."
   ]
  },
  {
   "cell_type": "markdown",
   "id": "3f1a9f70",
   "metadata": {},
   "source": [
    "# Essential libraries"
   ]
  },
  {
   "cell_type": "code",
   "execution_count": 274,
   "id": "ff4c5268",
   "metadata": {},
   "outputs": [],
   "source": [
    "import nltk\n",
    "from nltk.corpus import stopwords\n",
    "from nltk.stem.porter import PorterStemmer\n",
    "import pandas as pd\n",
    "from sklearn.model_selection import train_test_split\n",
    "from sklearn.ensemble import RandomForestRegressor\n",
    "import re\n",
    "import matplotlib as plt\n",
    "import numpy as np\n",
    "from sklearn import preprocessing\n",
    "from sklearn.feature_extraction.text import CountVectorizer\n",
    "from sklearn.metrics import mean_poisson_deviance\n",
    "from sklearn.metrics import mean_squared_error\n",
    "import warnings"
   ]
  },
  {
   "cell_type": "code",
   "execution_count": 275,
   "id": "f33d9335",
   "metadata": {},
   "outputs": [],
   "source": [
    "warnings.filterwarnings(action= 'ignore')"
   ]
  },
  {
   "cell_type": "code",
   "execution_count": 276,
   "id": "71712757",
   "metadata": {},
   "outputs": [
    {
     "name": "stderr",
     "output_type": "stream",
     "text": [
      "[nltk_data] Downloading package stopwords to\n",
      "[nltk_data]     C:\\Users\\USER\\AppData\\Roaming\\nltk_data...\n",
      "[nltk_data]   Package stopwords is already up-to-date!\n"
     ]
    },
    {
     "data": {
      "text/plain": [
       "True"
      ]
     },
     "execution_count": 276,
     "metadata": {},
     "output_type": "execute_result"
    }
   ],
   "source": [
    "nltk.download('stopwords')"
   ]
  },
  {
   "cell_type": "markdown",
   "id": "06a6e611",
   "metadata": {},
   "source": [
    "# Data Extraction and Understanding "
   ]
  },
  {
   "cell_type": "markdown",
   "id": "4849fe93",
   "metadata": {},
   "source": [
    "Data is extracted from Amazon, from where we can get all detail for a product ('product_name') such as 'manufacturer', 'price', 'number_available_in_stock' 'number_of_reviews', 'number_of_answered_questions', etc \n",
    "Our main aim is to find out the number of stock availability of a product'('number_available_in_stock',) to understand the requirement of promotion (high or low) at any time the availability of stock of a particular product is significantly less the product needs more promotion or quality improvement \n"
   ]
  },
  {
   "cell_type": "code",
   "execution_count": 277,
   "id": "afdbe7f3",
   "metadata": {},
   "outputs": [],
   "source": [
    "df=pd.read_csv(\"G:\\\\amazon_co-ecommerce_sample.csv\")\n",
    "df.drop_duplicates()\n",
    "df.drop(['uniq_id'],axis=1,inplace=True)"
   ]
  },
  {
   "cell_type": "code",
   "execution_count": 278,
   "id": "194d2dd3",
   "metadata": {},
   "outputs": [
    {
     "data": {
      "text/html": [
       "<div>\n",
       "<style scoped>\n",
       "    .dataframe tbody tr th:only-of-type {\n",
       "        vertical-align: middle;\n",
       "    }\n",
       "\n",
       "    .dataframe tbody tr th {\n",
       "        vertical-align: top;\n",
       "    }\n",
       "\n",
       "    .dataframe thead th {\n",
       "        text-align: right;\n",
       "    }\n",
       "</style>\n",
       "<table border=\"1\" class=\"dataframe\">\n",
       "  <thead>\n",
       "    <tr style=\"text-align: right;\">\n",
       "      <th></th>\n",
       "      <th>product_name</th>\n",
       "      <th>manufacturer</th>\n",
       "      <th>price</th>\n",
       "      <th>number_available_in_stock</th>\n",
       "      <th>number_of_reviews</th>\n",
       "      <th>number_of_answered_questions</th>\n",
       "      <th>average_review_rating</th>\n",
       "      <th>amazon_category_and_sub_category</th>\n",
       "      <th>customers_who_bought_this_item_also_bought</th>\n",
       "      <th>description</th>\n",
       "      <th>product_information</th>\n",
       "      <th>product_description</th>\n",
       "      <th>items_customers_buy_after_viewing_this_item</th>\n",
       "      <th>customer_questions_and_answers</th>\n",
       "      <th>customer_reviews</th>\n",
       "      <th>sellers</th>\n",
       "    </tr>\n",
       "  </thead>\n",
       "  <tbody>\n",
       "    <tr>\n",
       "      <th>0</th>\n",
       "      <td>Hornby 2014 Catalogue</td>\n",
       "      <td>Hornby</td>\n",
       "      <td>£3.42</td>\n",
       "      <td>5 new</td>\n",
       "      <td>15</td>\n",
       "      <td>1.0</td>\n",
       "      <td>4.9 out of 5 stars</td>\n",
       "      <td>Hobbies &gt; Model Trains &amp; Railway Sets &gt; Rail V...</td>\n",
       "      <td>http://www.amazon.co.uk/Hornby-R8150-Catalogue...</td>\n",
       "      <td>Product Description Hornby 2014 Catalogue Box ...</td>\n",
       "      <td>Technical Details Item Weight640 g Product Dim...</td>\n",
       "      <td>Product Description Hornby 2014 Catalogue Box ...</td>\n",
       "      <td>http://www.amazon.co.uk/Hornby-R8150-Catalogue...</td>\n",
       "      <td>Does this catalogue detail all the previous Ho...</td>\n",
       "      <td>Worth Buying For The Pictures Alone (As Ever) ...</td>\n",
       "      <td>{\"seller\"=&gt;[{\"Seller_name_1\"=&gt;\"Amazon.co.uk\", ...</td>\n",
       "    </tr>\n",
       "  </tbody>\n",
       "</table>\n",
       "</div>"
      ],
      "text/plain": [
       "            product_name manufacturer  price number_available_in_stock  \\\n",
       "0  Hornby 2014 Catalogue       Hornby  £3.42                     5 new   \n",
       "\n",
       "  number_of_reviews  number_of_answered_questions average_review_rating  \\\n",
       "0                15                           1.0    4.9 out of 5 stars   \n",
       "\n",
       "                    amazon_category_and_sub_category  \\\n",
       "0  Hobbies > Model Trains & Railway Sets > Rail V...   \n",
       "\n",
       "          customers_who_bought_this_item_also_bought  \\\n",
       "0  http://www.amazon.co.uk/Hornby-R8150-Catalogue...   \n",
       "\n",
       "                                         description  \\\n",
       "0  Product Description Hornby 2014 Catalogue Box ...   \n",
       "\n",
       "                                 product_information  \\\n",
       "0  Technical Details Item Weight640 g Product Dim...   \n",
       "\n",
       "                                 product_description  \\\n",
       "0  Product Description Hornby 2014 Catalogue Box ...   \n",
       "\n",
       "         items_customers_buy_after_viewing_this_item  \\\n",
       "0  http://www.amazon.co.uk/Hornby-R8150-Catalogue...   \n",
       "\n",
       "                      customer_questions_and_answers  \\\n",
       "0  Does this catalogue detail all the previous Ho...   \n",
       "\n",
       "                                    customer_reviews  \\\n",
       "0  Worth Buying For The Pictures Alone (As Ever) ...   \n",
       "\n",
       "                                             sellers  \n",
       "0  {\"seller\"=>[{\"Seller_name_1\"=>\"Amazon.co.uk\", ...  "
      ]
     },
     "execution_count": 278,
     "metadata": {},
     "output_type": "execute_result"
    }
   ],
   "source": [
    "df.head(1)"
   ]
  },
  {
   "cell_type": "markdown",
   "id": "488fd73d",
   "metadata": {},
   "source": [
    "# Data preprocessing "
   ]
  },
  {
   "cell_type": "code",
   "execution_count": 279,
   "id": "f97f77c3",
   "metadata": {},
   "outputs": [],
   "source": [
    "#null value annalysis\n",
    "def na_analysis(df):\n",
    "    df_count=df.notnull().sum() #count of colloumn in the data set\n",
    "    df_miss=df.isnull().sum()\n",
    "    Na_annalysis=pd.concat([df_count,df_miss],axis=1,names=['mot_null','null'])\n",
    "    return Na_annalysis.plot.bar(stacked=True)"
   ]
  },
  {
   "cell_type": "markdown",
   "id": "02257845",
   "metadata": {},
   "source": [
    "## Feature Transfirmation "
   ]
  },
  {
   "cell_type": "markdown",
   "id": "ded267b7",
   "metadata": {},
   "source": [
    "Avarage Review Rateing"
   ]
  },
  {
   "cell_type": "code",
   "execution_count": 280,
   "id": "296080b8",
   "metadata": {},
   "outputs": [],
   "source": [
    "df[['average_review', 'rateing']] = df['average_review_rating'].str.split(' ', 1, expand=True) #split review\n",
    "df['average_review'].astype('float64')\n",
    "df.drop(['rateing','average_review_rating'],axis=1,inplace=True)"
   ]
  },
  {
   "cell_type": "markdown",
   "id": "94f1d936",
   "metadata": {},
   "source": [
    "Price"
   ]
  },
  {
   "cell_type": "code",
   "execution_count": 281,
   "id": "4e076e0e",
   "metadata": {},
   "outputs": [],
   "source": [
    "df['price'] = df['price'].str.replace('£', '')\n",
    "df['price'] = df['price'].str.replace('-', '')\n",
    "df['price'] = df['price'].str.replace(',', '')\n",
    "df[['price1','price2']] = df['price'].str.split(' ', 1, expand=True)\n",
    "df['price1']=df['price1'].astype('float64')\n",
    "df['price2']=df['price2'].astype('float64').fillna(0)\n",
    "df['price_preprop']=(df['price1']+df['price2'])/2 \n",
    "df.drop(['price','price1','price2'],axis=1,inplace=True)"
   ]
  },
  {
   "cell_type": "markdown",
   "id": "4c992b65",
   "metadata": {},
   "source": [
    "Number of Reviews"
   ]
  },
  {
   "cell_type": "code",
   "execution_count": 282,
   "id": "a8ccb08c",
   "metadata": {},
   "outputs": [],
   "source": [
    "df['number_of_reviews'] = df['number_of_reviews'].str.replace(',', '')\n",
    "df['number_of_reviews']=df['number_of_reviews'].astype('float64')"
   ]
  },
  {
   "cell_type": "markdown",
   "id": "280afdef",
   "metadata": {},
   "source": [
    "Number if avilable stocks"
   ]
  },
  {
   "cell_type": "code",
   "execution_count": 283,
   "id": "decebbe8",
   "metadata": {},
   "outputs": [
    {
     "data": {
      "text/plain": [
       "0        5.0\n",
       "1        NaN\n",
       "2        2.0\n",
       "3        NaN\n",
       "4        NaN\n",
       "        ... \n",
       "9995     5.0\n",
       "9996     NaN\n",
       "9997     3.0\n",
       "9998     3.0\n",
       "9999    31.0\n",
       "Name: number_available_in_stock, Length: 10000, dtype: float64"
      ]
     },
     "execution_count": 283,
     "metadata": {},
     "output_type": "execute_result"
    }
   ],
   "source": [
    "df['number_available_in_stock'] = df['number_available_in_stock'].str.replace('new','' )\n",
    "df['number_available_in_stock'] = df['number_available_in_stock'].str.replace('1\\xa0used','' )\n",
    "df[['number_available_in_stock','new']] = df['number_available_in_stock'].str.split(n=1, expand=True)\n",
    "df.drop(['new'],axis=1,inplace=True)\n",
    "df['number_available_in_stock'].astype('float64')"
   ]
  },
  {
   "cell_type": "markdown",
   "id": "4c7e0f1e",
   "metadata": {},
   "source": [
    "Features for customer sentiment."
   ]
  },
  {
   "cell_type": "code",
   "execution_count": 284,
   "id": "978b39cd",
   "metadata": {},
   "outputs": [],
   "source": [
    "df_Product_syntiment=df[['product_name', 'manufacturer','customers_who_bought_this_item_also_bought', 'description',\n",
    "       'product_information', 'product_description','items_customers_buy_after_viewing_this_item','amazon_category_and_sub_category',\n",
    "       'customer_questions_and_answers', 'customer_reviews', 'sellers']]\n",
    "Product_review=df['average_review']"
   ]
  },
  {
   "cell_type": "markdown",
   "id": "ebd4df9f",
   "metadata": {},
   "source": [
    "Features for stock value prediction."
   ]
  },
  {
   "cell_type": "code",
   "execution_count": 285,
   "id": "c1b544a6",
   "metadata": {},
   "outputs": [],
   "source": [
    "df_Product_stock=df[['product_name','number_of_reviews','number_of_answered_questions','average_review', 'price_preprop','number_available_in_stock']]"
   ]
  },
  {
   "cell_type": "markdown",
   "id": "e36992e9",
   "metadata": {},
   "source": [
    "## Na Imputation "
   ]
  },
  {
   "cell_type": "code",
   "execution_count": 286,
   "id": "d534dd34",
   "metadata": {},
   "outputs": [
    {
     "data": {
      "text/plain": [
       "<AxesSubplot:>"
      ]
     },
     "execution_count": 286,
     "metadata": {},
     "output_type": "execute_result"
    },
    {
     "data": {
      "image/png": "[encoded data removed]",
      "text/plain": [
       "<Figure size 432x288 with 1 Axes>"
      ]
     },
     "metadata": {
      "needs_background": "light"
     },
     "output_type": "display_data"
    }
   ],
   "source": [
    "na_analysis(df_Product_stock)"
   ]
  },
  {
   "cell_type": "markdown",
   "id": "2cdbb19a",
   "metadata": {},
   "source": [
    "## Na imputation strategy"
   ]
  },
  {
   "cell_type": "markdown",
   "id": "b9507848",
   "metadata": {},
   "source": [
    "Na imputation is done by business knowledge for an example if we will assume that people are not reviewing which product has a minimum number of questions to be asked by the consumer.\n",
    "(the maximum frequency of 1 answered question because the particular product is not popular, so the null values are replaced by a mode of several reviews where 'df_Product_stock['number_of_answered_questions']==1')\n",
    "also we find that 'number_of_answered_questions' haveing a 765 null value that will replace it by 0 assuming that no questions asked by consumers."
   ]
  },
  {
   "cell_type": "code",
   "execution_count": 287,
   "id": "df1b69e9",
   "metadata": {},
   "outputs": [],
   "source": [
    "df_Product_stock['number_of_answered_questions'].fillna(0,inplace=True) #replace nun value to 0"
   ]
  },
  {
   "cell_type": "markdown",
   "id": "be5a3eb3",
   "metadata": {},
   "source": [
    "Find out how no of reviews are dependent on the number of answered questions"
   ]
  },
  {
   "cell_type": "code",
   "execution_count": 288,
   "id": "3733d48f",
   "metadata": {},
   "outputs": [
    {
     "data": {
      "text/plain": [
       "<AxesSubplot:ylabel='Frequency'>"
      ]
     },
     "execution_count": 288,
     "metadata": {},
     "output_type": "execute_result"
    },
    {
     "data": {
      "image/png": "[encoded data removed]",
      "text/plain": [
       "<Figure size 432x288 with 1 Axes>"
      ]
     },
     "metadata": {
      "needs_background": "light"
     },
     "output_type": "display_data"
    }
   ],
   "source": [
    "df_Product_stock[pd.isnull(df_Product_stock['number_of_reviews'])]['number_of_answered_questions'].astype('float64').plot.hist()"
   ]
  },
  {
   "cell_type": "code",
   "execution_count": 289,
   "id": "573476f0",
   "metadata": {},
   "outputs": [],
   "source": [
    "x=df_Product_stock[df_Product_stock['number_of_answered_questions']==1]['number_of_reviews'].mode()"
   ]
  },
  {
   "cell_type": "code",
   "execution_count": 290,
   "id": "ce5ae9ed",
   "metadata": {},
   "outputs": [
    {
     "name": "stdout",
     "output_type": "stream",
     "text": [
      "Null numbers of reviews will be replaced by  : 1.0\n"
     ]
    }
   ],
   "source": [
    "print(f'Null numbers of reviews will be replaced by  : {x[0]}')"
   ]
  },
  {
   "cell_type": "code",
   "execution_count": 291,
   "id": "9d777727",
   "metadata": {},
   "outputs": [],
   "source": [
    "df_Product_stock['number_of_reviews'].fillna(1,inplace=True) "
   ]
  },
  {
   "cell_type": "markdown",
   "id": "6efba195",
   "metadata": {},
   "source": [
    "The correlation between 'number_of_reviews','number_of_answered_questions' as follows"
   ]
  },
  {
   "cell_type": "code",
   "execution_count": 292,
   "id": "a9c25381",
   "metadata": {},
   "outputs": [
    {
     "data": {
      "text/html": [
       "<div>\n",
       "<style scoped>\n",
       "    .dataframe tbody tr th:only-of-type {\n",
       "        vertical-align: middle;\n",
       "    }\n",
       "\n",
       "    .dataframe tbody tr th {\n",
       "        vertical-align: top;\n",
       "    }\n",
       "\n",
       "    .dataframe thead th {\n",
       "        text-align: right;\n",
       "    }\n",
       "</style>\n",
       "<table border=\"1\" class=\"dataframe\">\n",
       "  <thead>\n",
       "    <tr style=\"text-align: right;\">\n",
       "      <th></th>\n",
       "      <th>number_of_reviews</th>\n",
       "      <th>number_of_answered_questions</th>\n",
       "    </tr>\n",
       "  </thead>\n",
       "  <tbody>\n",
       "    <tr>\n",
       "      <th>number_of_reviews</th>\n",
       "      <td>1.000000</td>\n",
       "      <td>0.052969</td>\n",
       "    </tr>\n",
       "    <tr>\n",
       "      <th>number_of_answered_questions</th>\n",
       "      <td>0.052969</td>\n",
       "      <td>1.000000</td>\n",
       "    </tr>\n",
       "  </tbody>\n",
       "</table>\n",
       "</div>"
      ],
      "text/plain": [
       "                              number_of_reviews  number_of_answered_questions\n",
       "number_of_reviews                      1.000000                      0.052969\n",
       "number_of_answered_questions           0.052969                      1.000000"
      ]
     },
     "execution_count": 292,
     "metadata": {},
     "output_type": "execute_result"
    }
   ],
   "source": [
    "df_corr=df_Product_stock[['number_of_reviews','number_of_answered_questions']]\n",
    "df_corr.corr(method='spearman')"
   ]
  },
  {
   "cell_type": "markdown",
   "id": "11616697",
   "metadata": {},
   "source": [
    "as they are not strongly correlated with each other we can not remove one of them"
   ]
  },
  {
   "cell_type": "code",
   "execution_count": 293,
   "id": "366a6efd",
   "metadata": {},
   "outputs": [
    {
     "data": {
      "text/plain": [
       "<AxesSubplot:ylabel='Frequency'>"
      ]
     },
     "execution_count": 293,
     "metadata": {},
     "output_type": "execute_result"
    },
    {
     "data": {
      "image/png": "[encoded data removed]",
      "text/plain": [
       "<Figure size 432x288 with 1 Axes>"
      ]
     },
     "metadata": {
      "needs_background": "light"
     },
     "output_type": "display_data"
    }
   ],
   "source": [
    "df_Product_stock[pd.isnull(df['average_review'])]['number_of_reviews'].astype('float64').plot.hist()"
   ]
  },
  {
   "cell_type": "code",
   "execution_count": 294,
   "id": "253a0b39",
   "metadata": {},
   "outputs": [
    {
     "data": {
      "text/html": [
       "<div>\n",
       "<style scoped>\n",
       "    .dataframe tbody tr th:only-of-type {\n",
       "        vertical-align: middle;\n",
       "    }\n",
       "\n",
       "    .dataframe tbody tr th {\n",
       "        vertical-align: top;\n",
       "    }\n",
       "\n",
       "    .dataframe thead th {\n",
       "        text-align: right;\n",
       "    }\n",
       "</style>\n",
       "<table border=\"1\" class=\"dataframe\">\n",
       "  <thead>\n",
       "    <tr style=\"text-align: right;\">\n",
       "      <th></th>\n",
       "      <th>number_of_reviews</th>\n",
       "      <th>number_of_answered_questions</th>\n",
       "      <th>price_preprop</th>\n",
       "    </tr>\n",
       "  </thead>\n",
       "  <tbody>\n",
       "    <tr>\n",
       "      <th>count</th>\n",
       "      <td>18.0</td>\n",
       "      <td>18.000000</td>\n",
       "      <td>15.000000</td>\n",
       "    </tr>\n",
       "    <tr>\n",
       "      <th>mean</th>\n",
       "      <td>1.0</td>\n",
       "      <td>1.888889</td>\n",
       "      <td>13.815667</td>\n",
       "    </tr>\n",
       "    <tr>\n",
       "      <th>std</th>\n",
       "      <td>0.0</td>\n",
       "      <td>1.450715</td>\n",
       "      <td>16.268862</td>\n",
       "    </tr>\n",
       "    <tr>\n",
       "      <th>min</th>\n",
       "      <td>1.0</td>\n",
       "      <td>0.000000</td>\n",
       "      <td>3.495000</td>\n",
       "    </tr>\n",
       "    <tr>\n",
       "      <th>25%</th>\n",
       "      <td>1.0</td>\n",
       "      <td>1.000000</td>\n",
       "      <td>5.187500</td>\n",
       "    </tr>\n",
       "    <tr>\n",
       "      <th>50%</th>\n",
       "      <td>1.0</td>\n",
       "      <td>1.000000</td>\n",
       "      <td>6.725000</td>\n",
       "    </tr>\n",
       "    <tr>\n",
       "      <th>75%</th>\n",
       "      <td>1.0</td>\n",
       "      <td>2.750000</td>\n",
       "      <td>12.985000</td>\n",
       "    </tr>\n",
       "    <tr>\n",
       "      <th>max</th>\n",
       "      <td>1.0</td>\n",
       "      <td>6.000000</td>\n",
       "      <td>63.475000</td>\n",
       "    </tr>\n",
       "  </tbody>\n",
       "</table>\n",
       "</div>"
      ],
      "text/plain": [
       "       number_of_reviews  number_of_answered_questions  price_preprop\n",
       "count               18.0                     18.000000      15.000000\n",
       "mean                 1.0                      1.888889      13.815667\n",
       "std                  0.0                      1.450715      16.268862\n",
       "min                  1.0                      0.000000       3.495000\n",
       "25%                  1.0                      1.000000       5.187500\n",
       "50%                  1.0                      1.000000       6.725000\n",
       "75%                  1.0                      2.750000      12.985000\n",
       "max                  1.0                      6.000000      63.475000"
      ]
     },
     "execution_count": 294,
     "metadata": {},
     "output_type": "execute_result"
    }
   ],
   "source": [
    "df_Product_stock[pd.isnull(df['average_review'])].describe()"
   ]
  },
  {
   "cell_type": "code",
   "execution_count": 295,
   "id": "c60c3f5c",
   "metadata": {},
   "outputs": [
    {
     "data": {
      "text/plain": [
       "0    5.0\n",
       "dtype: object"
      ]
     },
     "execution_count": 295,
     "metadata": {},
     "output_type": "execute_result"
    }
   ],
   "source": [
    "df_Product_stock[df_Product_stock['number_of_reviews']==1]['average_review'].mode()"
   ]
  },
  {
   "cell_type": "markdown",
   "id": "417c4a40",
   "metadata": {},
   "source": [
    "We can not make any decision to impute null values of 'average_review' as the number of reviews is one for every null instance but having a maximum of 6 numbers of questions answered as well as the average price is relatively high, therefore we will assume that products ate in such categories are costly but not popular enough so we can replace nul values by one."
   ]
  },
  {
   "cell_type": "code",
   "execution_count": 296,
   "id": "65871433",
   "metadata": {},
   "outputs": [],
   "source": [
    "df_Product_stock['average_review'].fillna(1,inplace=True) "
   ]
  },
  {
   "cell_type": "markdown",
   "id": "7714218e",
   "metadata": {},
   "source": [
    "Preprocess of price"
   ]
  },
  {
   "cell_type": "code",
   "execution_count": 297,
   "id": "497e8eaf",
   "metadata": {},
   "outputs": [
    {
     "data": {
      "text/html": [
       "<div>\n",
       "<style scoped>\n",
       "    .dataframe tbody tr th:only-of-type {\n",
       "        vertical-align: middle;\n",
       "    }\n",
       "\n",
       "    .dataframe tbody tr th {\n",
       "        vertical-align: top;\n",
       "    }\n",
       "\n",
       "    .dataframe thead th {\n",
       "        text-align: right;\n",
       "    }\n",
       "</style>\n",
       "<table border=\"1\" class=\"dataframe\">\n",
       "  <thead>\n",
       "    <tr style=\"text-align: right;\">\n",
       "      <th></th>\n",
       "      <th>product_name</th>\n",
       "      <th>number_of_reviews</th>\n",
       "      <th>number_of_answered_questions</th>\n",
       "      <th>average_review</th>\n",
       "      <th>price_preprop</th>\n",
       "      <th>number_available_in_stock</th>\n",
       "    </tr>\n",
       "  </thead>\n",
       "  <tbody>\n",
       "    <tr>\n",
       "      <th>9</th>\n",
       "      <td>Learning Curve Chuggington Interactive Chatsworth</td>\n",
       "      <td>8.0</td>\n",
       "      <td>1.0</td>\n",
       "      <td>4.8</td>\n",
       "      <td>NaN</td>\n",
       "      <td>1</td>\n",
       "    </tr>\n",
       "    <tr>\n",
       "      <th>14</th>\n",
       "      <td>Kato 3060-2 EF65 500 (F Model) Electric Locomo...</td>\n",
       "      <td>1.0</td>\n",
       "      <td>1.0</td>\n",
       "      <td>5.0</td>\n",
       "      <td>NaN</td>\n",
       "      <td>18</td>\n",
       "    </tr>\n",
       "    <tr>\n",
       "      <th>15</th>\n",
       "      <td>Glacier Express of N gauge 10-1219 Alps [UNESC...</td>\n",
       "      <td>1.0</td>\n",
       "      <td>1.0</td>\n",
       "      <td>5.0</td>\n",
       "      <td>NaN</td>\n",
       "      <td>12</td>\n",
       "    </tr>\n",
       "    <tr>\n",
       "      <th>16</th>\n",
       "      <td>Power Trains Freight Industrial (Pack of 4)</td>\n",
       "      <td>2.0</td>\n",
       "      <td>1.0</td>\n",
       "      <td>4.5</td>\n",
       "      <td>NaN</td>\n",
       "      <td>2</td>\n",
       "    </tr>\n",
       "    <tr>\n",
       "      <th>17</th>\n",
       "      <td>Chuggington Interactive Wash and Fuel Set with...</td>\n",
       "      <td>2.0</td>\n",
       "      <td>1.0</td>\n",
       "      <td>4.0</td>\n",
       "      <td>NaN</td>\n",
       "      <td>None</td>\n",
       "    </tr>\n",
       "    <tr>\n",
       "      <th>...</th>\n",
       "      <td>...</td>\n",
       "      <td>...</td>\n",
       "      <td>...</td>\n",
       "      <td>...</td>\n",
       "      <td>...</td>\n",
       "      <td>...</td>\n",
       "    </tr>\n",
       "    <tr>\n",
       "      <th>9952</th>\n",
       "      <td>HIVE - A GAME BUZZING WITH POSSIBILITIES</td>\n",
       "      <td>2.0</td>\n",
       "      <td>1.0</td>\n",
       "      <td>5.0</td>\n",
       "      <td>NaN</td>\n",
       "      <td>1</td>\n",
       "    </tr>\n",
       "    <tr>\n",
       "      <th>9969</th>\n",
       "      <td>Spacegodzilla S.H.Monsterarts Action Figure</td>\n",
       "      <td>5.0</td>\n",
       "      <td>2.0</td>\n",
       "      <td>4.2</td>\n",
       "      <td>NaN</td>\n",
       "      <td>20</td>\n",
       "    </tr>\n",
       "    <tr>\n",
       "      <th>9976</th>\n",
       "      <td>Batman The Dark Knight Batarang Prop Replica W...</td>\n",
       "      <td>5.0</td>\n",
       "      <td>3.0</td>\n",
       "      <td>4.6</td>\n",
       "      <td>NaN</td>\n",
       "      <td>1</td>\n",
       "    </tr>\n",
       "    <tr>\n",
       "      <th>9983</th>\n",
       "      <td>Dc Comics Infinite Crisis Pajama Party Harley ...</td>\n",
       "      <td>2.0</td>\n",
       "      <td>3.0</td>\n",
       "      <td>5.0</td>\n",
       "      <td>NaN</td>\n",
       "      <td>5</td>\n",
       "    </tr>\n",
       "    <tr>\n",
       "      <th>9984</th>\n",
       "      <td>Master Replicas - Clone Trooper Helmet Scaled ...</td>\n",
       "      <td>1.0</td>\n",
       "      <td>3.0</td>\n",
       "      <td>5.0</td>\n",
       "      <td>NaN</td>\n",
       "      <td>2</td>\n",
       "    </tr>\n",
       "  </tbody>\n",
       "</table>\n",
       "<p>1435 rows × 6 columns</p>\n",
       "</div>"
      ],
      "text/plain": [
       "                                           product_name  number_of_reviews  \\\n",
       "9     Learning Curve Chuggington Interactive Chatsworth                8.0   \n",
       "14    Kato 3060-2 EF65 500 (F Model) Electric Locomo...                1.0   \n",
       "15    Glacier Express of N gauge 10-1219 Alps [UNESC...                1.0   \n",
       "16          Power Trains Freight Industrial (Pack of 4)                2.0   \n",
       "17    Chuggington Interactive Wash and Fuel Set with...                2.0   \n",
       "...                                                 ...                ...   \n",
       "9952           HIVE - A GAME BUZZING WITH POSSIBILITIES                2.0   \n",
       "9969        Spacegodzilla S.H.Monsterarts Action Figure                5.0   \n",
       "9976  Batman The Dark Knight Batarang Prop Replica W...                5.0   \n",
       "9983  Dc Comics Infinite Crisis Pajama Party Harley ...                2.0   \n",
       "9984  Master Replicas - Clone Trooper Helmet Scaled ...                1.0   \n",
       "\n",
       "      number_of_answered_questions average_review  price_preprop  \\\n",
       "9                              1.0            4.8            NaN   \n",
       "14                             1.0            5.0            NaN   \n",
       "15                             1.0            5.0            NaN   \n",
       "16                             1.0            4.5            NaN   \n",
       "17                             1.0            4.0            NaN   \n",
       "...                            ...            ...            ...   \n",
       "9952                           1.0            5.0            NaN   \n",
       "9969                           2.0            4.2            NaN   \n",
       "9976                           3.0            4.6            NaN   \n",
       "9983                           3.0            5.0            NaN   \n",
       "9984                           3.0            5.0            NaN   \n",
       "\n",
       "     number_available_in_stock  \n",
       "9                            1  \n",
       "14                          18  \n",
       "15                          12  \n",
       "16                           2  \n",
       "17                        None  \n",
       "...                        ...  \n",
       "9952                         1  \n",
       "9969                        20  \n",
       "9976                         1  \n",
       "9983                         5  \n",
       "9984                         2  \n",
       "\n",
       "[1435 rows x 6 columns]"
      ]
     },
     "execution_count": 297,
     "metadata": {},
     "output_type": "execute_result"
    }
   ],
   "source": [
    "df_Product_stock[pd.isnull(df['price_preprop'])]"
   ]
  },
  {
   "cell_type": "code",
   "execution_count": 298,
   "id": "c8210a48",
   "metadata": {},
   "outputs": [
    {
     "name": "stdout",
     "output_type": "stream",
     "text": [
      "maximum price of a product is 8140.3 and minimmum is 0.005 thus we are takeing \"price_preprop\" in log scale to train the model\n"
     ]
    }
   ],
   "source": [
    "#Scaleing price\n",
    "P_max=df_Product_stock['price_preprop'].max()\n",
    "P_min=df_Product_stock['price_preprop'].min()\n",
    "print(f'maximum price of a product is {P_max} and minimmum is {P_min} thus we are takeing \"price_preprop\" in log scale to train the model')"
   ]
  },
  {
   "cell_type": "code",
   "execution_count": 299,
   "id": "421fd317",
   "metadata": {},
   "outputs": [],
   "source": [
    "df_Product_stock['price_preprop']=np.absolute(np.log10(df_Product_stock['price_preprop']))"
   ]
  },
  {
   "cell_type": "code",
   "execution_count": 300,
   "id": "19a91d46",
   "metadata": {},
   "outputs": [
    {
     "data": {
      "text/plain": [
       "0.0"
      ]
     },
     "execution_count": 300,
     "metadata": {},
     "output_type": "execute_result"
    }
   ],
   "source": [
    "df_Product_stock['price_preprop'].min()"
   ]
  },
  {
   "cell_type": "markdown",
   "id": "e93f5e9e",
   "metadata": {},
   "source": [
    "Thus replaceing null values by zeros"
   ]
  },
  {
   "cell_type": "code",
   "execution_count": 301,
   "id": "4a1c0d0c",
   "metadata": {},
   "outputs": [],
   "source": [
    "df_Product_stock['price_preprop'].fillna(0,inplace=True) "
   ]
  },
  {
   "cell_type": "code",
   "execution_count": 302,
   "id": "f8a36cf4",
   "metadata": {},
   "outputs": [
    {
     "data": {
      "text/html": [
       "<div>\n",
       "<style scoped>\n",
       "    .dataframe tbody tr th:only-of-type {\n",
       "        vertical-align: middle;\n",
       "    }\n",
       "\n",
       "    .dataframe tbody tr th {\n",
       "        vertical-align: top;\n",
       "    }\n",
       "\n",
       "    .dataframe thead th {\n",
       "        text-align: right;\n",
       "    }\n",
       "</style>\n",
       "<table border=\"1\" class=\"dataframe\">\n",
       "  <thead>\n",
       "    <tr style=\"text-align: right;\">\n",
       "      <th></th>\n",
       "      <th>product_name</th>\n",
       "      <th>number_of_reviews</th>\n",
       "      <th>number_of_answered_questions</th>\n",
       "      <th>average_review</th>\n",
       "      <th>price_preprop</th>\n",
       "      <th>number_available_in_stock</th>\n",
       "    </tr>\n",
       "  </thead>\n",
       "  <tbody>\n",
       "    <tr>\n",
       "      <th>9</th>\n",
       "      <td>Learning Curve Chuggington Interactive Chatsworth</td>\n",
       "      <td>8.0</td>\n",
       "      <td>1.0</td>\n",
       "      <td>4.8</td>\n",
       "      <td>0.0</td>\n",
       "      <td>1</td>\n",
       "    </tr>\n",
       "    <tr>\n",
       "      <th>14</th>\n",
       "      <td>Kato 3060-2 EF65 500 (F Model) Electric Locomo...</td>\n",
       "      <td>1.0</td>\n",
       "      <td>1.0</td>\n",
       "      <td>5.0</td>\n",
       "      <td>0.0</td>\n",
       "      <td>18</td>\n",
       "    </tr>\n",
       "    <tr>\n",
       "      <th>15</th>\n",
       "      <td>Glacier Express of N gauge 10-1219 Alps [UNESC...</td>\n",
       "      <td>1.0</td>\n",
       "      <td>1.0</td>\n",
       "      <td>5.0</td>\n",
       "      <td>0.0</td>\n",
       "      <td>12</td>\n",
       "    </tr>\n",
       "    <tr>\n",
       "      <th>16</th>\n",
       "      <td>Power Trains Freight Industrial (Pack of 4)</td>\n",
       "      <td>2.0</td>\n",
       "      <td>1.0</td>\n",
       "      <td>4.5</td>\n",
       "      <td>0.0</td>\n",
       "      <td>2</td>\n",
       "    </tr>\n",
       "    <tr>\n",
       "      <th>17</th>\n",
       "      <td>Chuggington Interactive Wash and Fuel Set with...</td>\n",
       "      <td>2.0</td>\n",
       "      <td>1.0</td>\n",
       "      <td>4.0</td>\n",
       "      <td>0.0</td>\n",
       "      <td>None</td>\n",
       "    </tr>\n",
       "    <tr>\n",
       "      <th>...</th>\n",
       "      <td>...</td>\n",
       "      <td>...</td>\n",
       "      <td>...</td>\n",
       "      <td>...</td>\n",
       "      <td>...</td>\n",
       "      <td>...</td>\n",
       "    </tr>\n",
       "    <tr>\n",
       "      <th>9952</th>\n",
       "      <td>HIVE - A GAME BUZZING WITH POSSIBILITIES</td>\n",
       "      <td>2.0</td>\n",
       "      <td>1.0</td>\n",
       "      <td>5.0</td>\n",
       "      <td>0.0</td>\n",
       "      <td>1</td>\n",
       "    </tr>\n",
       "    <tr>\n",
       "      <th>9969</th>\n",
       "      <td>Spacegodzilla S.H.Monsterarts Action Figure</td>\n",
       "      <td>5.0</td>\n",
       "      <td>2.0</td>\n",
       "      <td>4.2</td>\n",
       "      <td>0.0</td>\n",
       "      <td>20</td>\n",
       "    </tr>\n",
       "    <tr>\n",
       "      <th>9976</th>\n",
       "      <td>Batman The Dark Knight Batarang Prop Replica W...</td>\n",
       "      <td>5.0</td>\n",
       "      <td>3.0</td>\n",
       "      <td>4.6</td>\n",
       "      <td>0.0</td>\n",
       "      <td>1</td>\n",
       "    </tr>\n",
       "    <tr>\n",
       "      <th>9983</th>\n",
       "      <td>Dc Comics Infinite Crisis Pajama Party Harley ...</td>\n",
       "      <td>2.0</td>\n",
       "      <td>3.0</td>\n",
       "      <td>5.0</td>\n",
       "      <td>0.0</td>\n",
       "      <td>5</td>\n",
       "    </tr>\n",
       "    <tr>\n",
       "      <th>9984</th>\n",
       "      <td>Master Replicas - Clone Trooper Helmet Scaled ...</td>\n",
       "      <td>1.0</td>\n",
       "      <td>3.0</td>\n",
       "      <td>5.0</td>\n",
       "      <td>0.0</td>\n",
       "      <td>2</td>\n",
       "    </tr>\n",
       "  </tbody>\n",
       "</table>\n",
       "<p>1435 rows × 6 columns</p>\n",
       "</div>"
      ],
      "text/plain": [
       "                                           product_name  number_of_reviews  \\\n",
       "9     Learning Curve Chuggington Interactive Chatsworth                8.0   \n",
       "14    Kato 3060-2 EF65 500 (F Model) Electric Locomo...                1.0   \n",
       "15    Glacier Express of N gauge 10-1219 Alps [UNESC...                1.0   \n",
       "16          Power Trains Freight Industrial (Pack of 4)                2.0   \n",
       "17    Chuggington Interactive Wash and Fuel Set with...                2.0   \n",
       "...                                                 ...                ...   \n",
       "9952           HIVE - A GAME BUZZING WITH POSSIBILITIES                2.0   \n",
       "9969        Spacegodzilla S.H.Monsterarts Action Figure                5.0   \n",
       "9976  Batman The Dark Knight Batarang Prop Replica W...                5.0   \n",
       "9983  Dc Comics Infinite Crisis Pajama Party Harley ...                2.0   \n",
       "9984  Master Replicas - Clone Trooper Helmet Scaled ...                1.0   \n",
       "\n",
       "      number_of_answered_questions average_review  price_preprop  \\\n",
       "9                              1.0            4.8            0.0   \n",
       "14                             1.0            5.0            0.0   \n",
       "15                             1.0            5.0            0.0   \n",
       "16                             1.0            4.5            0.0   \n",
       "17                             1.0            4.0            0.0   \n",
       "...                            ...            ...            ...   \n",
       "9952                           1.0            5.0            0.0   \n",
       "9969                           2.0            4.2            0.0   \n",
       "9976                           3.0            4.6            0.0   \n",
       "9983                           3.0            5.0            0.0   \n",
       "9984                           3.0            5.0            0.0   \n",
       "\n",
       "     number_available_in_stock  \n",
       "9                            1  \n",
       "14                          18  \n",
       "15                          12  \n",
       "16                           2  \n",
       "17                        None  \n",
       "...                        ...  \n",
       "9952                         1  \n",
       "9969                        20  \n",
       "9976                         1  \n",
       "9983                         5  \n",
       "9984                         2  \n",
       "\n",
       "[1435 rows x 6 columns]"
      ]
     },
     "execution_count": 302,
     "metadata": {},
     "output_type": "execute_result"
    }
   ],
   "source": [
    "df_Product_stock[pd.isnull(df['price_preprop'])]"
   ]
  },
  {
   "cell_type": "code",
   "execution_count": 303,
   "id": "1f6611fa",
   "metadata": {},
   "outputs": [
    {
     "data": {
      "text/html": [
       "<div>\n",
       "<style scoped>\n",
       "    .dataframe tbody tr th:only-of-type {\n",
       "        vertical-align: middle;\n",
       "    }\n",
       "\n",
       "    .dataframe tbody tr th {\n",
       "        vertical-align: top;\n",
       "    }\n",
       "\n",
       "    .dataframe thead th {\n",
       "        text-align: right;\n",
       "    }\n",
       "</style>\n",
       "<table border=\"1\" class=\"dataframe\">\n",
       "  <thead>\n",
       "    <tr style=\"text-align: right;\">\n",
       "      <th></th>\n",
       "      <th>number_of_reviews</th>\n",
       "      <th>number_of_answered_questions</th>\n",
       "      <th>price_preprop</th>\n",
       "    </tr>\n",
       "  </thead>\n",
       "  <tbody>\n",
       "    <tr>\n",
       "      <th>count</th>\n",
       "      <td>2589.000000</td>\n",
       "      <td>2589.000000</td>\n",
       "      <td>2589.000000</td>\n",
       "    </tr>\n",
       "    <tr>\n",
       "      <th>mean</th>\n",
       "      <td>4.966396</td>\n",
       "      <td>1.749324</td>\n",
       "      <td>0.596439</td>\n",
       "    </tr>\n",
       "    <tr>\n",
       "      <th>std</th>\n",
       "      <td>22.318442</td>\n",
       "      <td>3.172909</td>\n",
       "      <td>0.511924</td>\n",
       "    </tr>\n",
       "    <tr>\n",
       "      <th>min</th>\n",
       "      <td>1.000000</td>\n",
       "      <td>0.000000</td>\n",
       "      <td>0.000000</td>\n",
       "    </tr>\n",
       "    <tr>\n",
       "      <th>25%</th>\n",
       "      <td>1.000000</td>\n",
       "      <td>1.000000</td>\n",
       "      <td>0.168792</td>\n",
       "    </tr>\n",
       "    <tr>\n",
       "      <th>50%</th>\n",
       "      <td>1.000000</td>\n",
       "      <td>1.000000</td>\n",
       "      <td>0.511215</td>\n",
       "    </tr>\n",
       "    <tr>\n",
       "      <th>75%</th>\n",
       "      <td>3.000000</td>\n",
       "      <td>2.000000</td>\n",
       "      <td>0.928140</td>\n",
       "    </tr>\n",
       "    <tr>\n",
       "      <th>max</th>\n",
       "      <td>649.000000</td>\n",
       "      <td>39.000000</td>\n",
       "      <td>3.910640</td>\n",
       "    </tr>\n",
       "  </tbody>\n",
       "</table>\n",
       "</div>"
      ],
      "text/plain": [
       "       number_of_reviews  number_of_answered_questions  price_preprop\n",
       "count        2589.000000                   2589.000000    2589.000000\n",
       "mean            4.966396                      1.749324       0.596439\n",
       "std            22.318442                      3.172909       0.511924\n",
       "min             1.000000                      0.000000       0.000000\n",
       "25%             1.000000                      1.000000       0.168792\n",
       "50%             1.000000                      1.000000       0.511215\n",
       "75%             3.000000                      2.000000       0.928140\n",
       "max           649.000000                     39.000000       3.910640"
      ]
     },
     "execution_count": 303,
     "metadata": {},
     "output_type": "execute_result"
    }
   ],
   "source": [
    "df_Product_stock[pd.isnull(df['number_available_in_stock'])].describe()"
   ]
  },
  {
   "cell_type": "code",
   "execution_count": 304,
   "id": "8158e4ba",
   "metadata": {},
   "outputs": [],
   "source": [
    "df_Product_stock['number_available_in_stock'].fillna(0,inplace=True) "
   ]
  },
  {
   "cell_type": "code",
   "execution_count": 305,
   "id": "3e8fb590",
   "metadata": {},
   "outputs": [
    {
     "data": {
      "text/plain": [
       "<AxesSubplot:>"
      ]
     },
     "execution_count": 305,
     "metadata": {},
     "output_type": "execute_result"
    },
    {
     "data": {
      "image/png": "[encoded data removed]",
      "text/plain": [
       "<Figure size 432x288 with 1 Axes>"
      ]
     },
     "metadata": {
      "needs_background": "light"
     },
     "output_type": "display_data"
    }
   ],
   "source": [
    "na_analysis(df_Product_stock)"
   ]
  },
  {
   "cell_type": "markdown",
   "id": "ac91e234",
   "metadata": {},
   "source": [
    "Dependent Feature"
   ]
  },
  {
   "cell_type": "markdown",
   "id": "9c822d5b",
   "metadata": {},
   "source": [
    "New feature creation  Popularity compile both number_of_reviews and avarage_reviews"
   ]
  },
  {
   "cell_type": "code",
   "execution_count": 306,
   "id": "b4ba5c8b",
   "metadata": {},
   "outputs": [],
   "source": [
    "df_Product_stock['number_of_reviews']=df_Product_stock['number_of_reviews']/df_Product_stock['number_of_reviews'].max()\n",
    "df_Product_stock['average_review']=df_Product_stock['average_review'].astype('float64')/df_Product_stock['average_review'].astype('float64').max()\n",
    "df_Product_stock['number_of_answered_questions']= df_Product_stock['number_of_answered_questions']/df_Product_stock['number_of_answered_questions'].max()"
   ]
  },
  {
   "cell_type": "markdown",
   "id": "8c6872a2",
   "metadata": {},
   "source": [
    "as we find 'number_of_reviews', 'average_review', 'number_of_answered_questions' all are exclusive and independent of each other so we will prepare a feature to combine all three by multiplication"
   ]
  },
  {
   "cell_type": "code",
   "execution_count": 307,
   "id": "ff662a58",
   "metadata": {},
   "outputs": [],
   "source": [
    "df_Product_stock['Prob_popularity']=df_Product_stock['number_of_reviews']*df_Product_stock['average_review']*df_Product_stock['number_of_answered_questions']"
   ]
  },
  {
   "cell_type": "code",
   "execution_count": 308,
   "id": "fecf4497",
   "metadata": {},
   "outputs": [],
   "source": [
    "df_Product_stock.drop(['number_of_reviews','average_review','number_of_answered_questions'],axis=1,inplace=True)"
   ]
  },
  {
   "cell_type": "code",
   "execution_count": 310,
   "id": "3a4d158c",
   "metadata": {},
   "outputs": [
    {
     "data": {
      "text/plain": [
       "0.0"
      ]
     },
     "execution_count": 310,
     "metadata": {},
     "output_type": "execute_result"
    }
   ],
   "source": [
    "df_Product_stock['Prob_popularity'].min()"
   ]
  },
  {
   "cell_type": "code",
   "execution_count": 311,
   "id": "ca3f6ac7",
   "metadata": {},
   "outputs": [
    {
     "data": {
      "text/plain": [
       "<AxesSubplot:>"
      ]
     },
     "execution_count": 311,
     "metadata": {},
     "output_type": "execute_result"
    },
    {
     "data": {
      "image/png": "[encoded data removed]",
      "text/plain": [
       "<Figure size 432x288 with 1 Axes>"
      ]
     },
     "metadata": {
      "needs_background": "light"
     },
     "output_type": "display_data"
    }
   ],
   "source": [
    "na_analysis(df_Product_stock)"
   ]
  },
  {
   "cell_type": "markdown",
   "id": "1498b189",
   "metadata": {},
   "source": [
    "## Prepeocess of text data"
   ]
  },
  {
   "cell_type": "code",
   "execution_count": 314,
   "id": "b50443d6",
   "metadata": {},
   "outputs": [
    {
     "data": {
      "text/html": [
       "<div>\n",
       "<style scoped>\n",
       "    .dataframe tbody tr th:only-of-type {\n",
       "        vertical-align: middle;\n",
       "    }\n",
       "\n",
       "    .dataframe tbody tr th {\n",
       "        vertical-align: top;\n",
       "    }\n",
       "\n",
       "    .dataframe thead th {\n",
       "        text-align: right;\n",
       "    }\n",
       "</style>\n",
       "<table border=\"1\" class=\"dataframe\">\n",
       "  <thead>\n",
       "    <tr style=\"text-align: right;\">\n",
       "      <th></th>\n",
       "      <th>customer_reviews</th>\n",
       "      <th>Prob_popularity</th>\n",
       "    </tr>\n",
       "  </thead>\n",
       "  <tbody>\n",
       "    <tr>\n",
       "      <th>0</th>\n",
       "      <td>Worth Buying For The Pictures Alone (As Ever) ...</td>\n",
       "      <td>0.000269</td>\n",
       "    </tr>\n",
       "    <tr>\n",
       "      <th>1</th>\n",
       "      <td>Four Stars // 4.0 // 18 Dec. 2015 // By\\n    \\...</td>\n",
       "      <td>0.000033</td>\n",
       "    </tr>\n",
       "    <tr>\n",
       "      <th>2</th>\n",
       "      <td>**Highly Recommended!** // 5.0 // 26 May 2015 ...</td>\n",
       "      <td>0.000486</td>\n",
       "    </tr>\n",
       "    <tr>\n",
       "      <th>3</th>\n",
       "      <td>I love it // 5.0 // 22 July 2013 // By\\n    \\n...</td>\n",
       "      <td>0.000037</td>\n",
       "    </tr>\n",
       "    <tr>\n",
       "      <th>4</th>\n",
       "      <td>Birthday present // 5.0 // 14 April 2014 // By...</td>\n",
       "      <td>0.000103</td>\n",
       "    </tr>\n",
       "    <tr>\n",
       "      <th>...</th>\n",
       "      <td>...</td>\n",
       "      <td>...</td>\n",
       "    </tr>\n",
       "    <tr>\n",
       "      <th>9995</th>\n",
       "      <td>Realistic // 5.0 // 31 Mar. 2014 // By\\n    \\n...</td>\n",
       "      <td>0.000165</td>\n",
       "    </tr>\n",
       "    <tr>\n",
       "      <th>9996</th>\n",
       "      <td>... what I see my grandson us going to have fu...</td>\n",
       "      <td>0.000044</td>\n",
       "    </tr>\n",
       "    <tr>\n",
       "      <th>9997</th>\n",
       "      <td>Five Stars // 5.0 // 18 Dec. 2015 // By\\n    \\...</td>\n",
       "      <td>0.000055</td>\n",
       "    </tr>\n",
       "    <tr>\n",
       "      <th>9998</th>\n",
       "      <td>The best sculpt in a while // 5.0 // 13 May 20...</td>\n",
       "      <td>0.000055</td>\n",
       "    </tr>\n",
       "    <tr>\n",
       "      <th>9999</th>\n",
       "      <td>Gold leader // 5.0 // 31 Aug. 2015 // By\\n    ...</td>\n",
       "      <td>0.000544</td>\n",
       "    </tr>\n",
       "  </tbody>\n",
       "</table>\n",
       "<p>9979 rows × 2 columns</p>\n",
       "</div>"
      ],
      "text/plain": [
       "                                       customer_reviews  Prob_popularity\n",
       "0     Worth Buying For The Pictures Alone (As Ever) ...         0.000269\n",
       "1     Four Stars // 4.0 // 18 Dec. 2015 // By\\n    \\...         0.000033\n",
       "2     **Highly Recommended!** // 5.0 // 26 May 2015 ...         0.000486\n",
       "3     I love it // 5.0 // 22 July 2013 // By\\n    \\n...         0.000037\n",
       "4     Birthday present // 5.0 // 14 April 2014 // By...         0.000103\n",
       "...                                                 ...              ...\n",
       "9995  Realistic // 5.0 // 31 Mar. 2014 // By\\n    \\n...         0.000165\n",
       "9996  ... what I see my grandson us going to have fu...         0.000044\n",
       "9997  Five Stars // 5.0 // 18 Dec. 2015 // By\\n    \\...         0.000055\n",
       "9998  The best sculpt in a while // 5.0 // 13 May 20...         0.000055\n",
       "9999  Gold leader // 5.0 // 31 Aug. 2015 // By\\n    ...         0.000544\n",
       "\n",
       "[9979 rows x 2 columns]"
      ]
     },
     "execution_count": 314,
     "metadata": {},
     "output_type": "execute_result"
    }
   ],
   "source": [
    "Review_syntement=pd.concat([df_Product_syntiment['customer_reviews'],df_Product_stock['Prob_popularity']],axis=1)\n",
    "Review_syntement.dropna()"
   ]
  },
  {
   "cell_type": "code",
   "execution_count": 315,
   "id": "69ab243d",
   "metadata": {},
   "outputs": [
    {
     "data": {
      "text/plain": [
       "<AxesSubplot:>"
      ]
     },
     "execution_count": 315,
     "metadata": {},
     "output_type": "execute_result"
    },
    {
     "data": {
      "image/png": "[encoded data removed]",
      "text/plain": [
       "<Figure size 432x288 with 1 Axes>"
      ]
     },
     "metadata": {
      "needs_background": "light"
     },
     "output_type": "display_data"
    }
   ],
   "source": [
    "na_analysis(Review_syntement)"
   ]
  },
  {
   "cell_type": "code",
   "execution_count": 316,
   "id": "76aefcdd",
   "metadata": {},
   "outputs": [],
   "source": [
    "messages=Review_syntement['customer_reviews'].astype('str')\n",
    "test=messages.to_numpy()\n",
    "ps = PorterStemmer()\n",
    "corpus = []\n",
    "for i in range(0, len(test)):\n",
    "    review = re.sub('[^a-zA-Z]', ' ', test[i])\n",
    "    review = review.lower()\n",
    "    review = review.split()\n",
    "    review = [ps.stem(word) for word in review if not word in stopwords.words('english')]\n",
    "    review = ' '.join(review)\n",
    "    corpus.append(review)"
   ]
  },
  {
   "cell_type": "code",
   "execution_count": 351,
   "id": "812d4d4a",
   "metadata": {},
   "outputs": [],
   "source": [
    "from sklearn.feature_extraction.text import CountVectorizer\n",
    "cv = CountVectorizer(max_features=2500)\n",
    "X = cv.fit_transform(corpus).toarray()"
   ]
  },
  {
   "cell_type": "markdown",
   "id": "8f0be4e5",
   "metadata": {},
   "source": [
    "# Model "
   ]
  },
  {
   "cell_type": "code",
   "execution_count": 352,
   "id": "8a2575dc",
   "metadata": {},
   "outputs": [],
   "source": [
    "y=Review_syntement['Prob_popularity'].to_numpy()\n",
    "X = cv.fit_transform(corpus).toarray()"
   ]
  },
  {
   "cell_type": "code",
   "execution_count": 353,
   "id": "0bf15886",
   "metadata": {},
   "outputs": [],
   "source": [
    "X1=df_Product_stock[['price_preprop','Prob_popularity']]\n",
    "Y3=df_Product_stock['number_available_in_stock']"
   ]
  },
  {
   "cell_type": "markdown",
   "id": "c76f3255",
   "metadata": {},
   "source": [
    "# Flow chart"
   ]
  },
  {
   "cell_type": "code",
   "execution_count": 354,
   "id": "64a7b295",
   "metadata": {},
   "outputs": [
    {
     "data": {
      "image/png": "[encoded data removed]",
      "text/plain": [
       "<IPython.core.display.Image object>"
      ]
     },
     "execution_count": 354,
     "metadata": {},
     "output_type": "execute_result"
    }
   ],
   "source": [
    "from IPython import display\n",
    "display.Image(\"G:/Data bricks.png\")"
   ]
  },
  {
   "cell_type": "markdown",
   "id": "89fe78c9",
   "metadata": {},
   "source": [
    "Data (reviews of a product) are collected From various data sources and analyzing them by a Machine learning model to predict popularity_coff. After getting the popularity_coff, and with the help of the prices of the product a 2nd machine learning model will be created that will predict the number of stock that can be left in the future, concerning the number of stock we can understand how much the product needs promotions "
   ]
  },
  {
   "cell_type": "code",
   "execution_count": 355,
   "id": "fa4e7384",
   "metadata": {},
   "outputs": [],
   "source": [
    "from sklearn.model_selection import train_test_split\n",
    "from sklearn import linear_model\n",
    "from sklearn.ensemble import RandomForestRegressor\n",
    "from sklearn.metrics import mean_poisson_deviance\n",
    "from sklearn.metrics import mean_squared_error"
   ]
  },
  {
   "cell_type": "code",
   "execution_count": 356,
   "id": "721884a0",
   "metadata": {},
   "outputs": [],
   "source": [
    "X = cv.fit_transform(corpus).toarray()\n",
    "X1=df_Product_stock['price_preprop'].to_numpy()\n",
    "Y3=df_Product_stock['number_available_in_stock'].to_numpy()\n",
    "Y=df_Product_stock['Prob_popularity'].to_numpy()"
   ]
  },
  {
   "cell_type": "code",
   "execution_count": 357,
   "id": "818d2e63",
   "metadata": {},
   "outputs": [
    {
     "data": {
      "text/plain": [
       "array([2.69423214e-04, 3.29905977e-05, 4.86061472e-04, ...,\n",
       "       5.49843295e-05, 5.49843295e-05, 5.44344862e-04])"
      ]
     },
     "execution_count": 357,
     "metadata": {},
     "output_type": "execute_result"
    }
   ],
   "source": [
    "Y"
   ]
  },
  {
   "cell_type": "code",
   "execution_count": 367,
   "id": "3f5baa17",
   "metadata": {},
   "outputs": [],
   "source": [
    "ML_Model_1=RandomForestRegressor(max_depth=4, random_state=0,ccp_alpha=0.05)\n",
    "ML_Model_2= linear_model.TweedieRegressor(link='log', power=1)"
   ]
  },
  {
   "cell_type": "code",
   "execution_count": 368,
   "id": "b2605711",
   "metadata": {},
   "outputs": [],
   "source": [
    "X_train, X_test, Y_train, Y_test = train_test_split(X ,Y, test_size = 0.20, random_state = 0)"
   ]
  },
  {
   "cell_type": "code",
   "execution_count": 369,
   "id": "e3734b02",
   "metadata": {},
   "outputs": [],
   "source": [
    "m1=ML_Model_1.fit(X_train,Y_train)\n",
    "Y1=m1.predict(X_test)"
   ]
  },
  {
   "cell_type": "code",
   "execution_count": 370,
   "id": "af221dd1",
   "metadata": {},
   "outputs": [
    {
     "data": {
      "text/plain": [
       "4.848194781498836e-05"
      ]
     },
     "execution_count": 370,
     "metadata": {},
     "output_type": "execute_result"
    }
   ],
   "source": [
    "from sklearn.metrics import mean_squared_error\n",
    "mean_squared_error(Y_test,Y1)"
   ]
  },
  {
   "cell_type": "code",
   "execution_count": 371,
   "id": "499d67ac",
   "metadata": {},
   "outputs": [],
   "source": [
    "Y1=np.asarray(Y1)"
   ]
  },
  {
   "cell_type": "markdown",
   "id": "a9a97e77",
   "metadata": {},
   "source": [
    "train for ML_MODEL_2"
   ]
  },
  {
   "cell_type": "code",
   "execution_count": 328,
   "id": "6b2dcb78",
   "metadata": {},
   "outputs": [],
   "source": [
    "X1=pd.DataFrame(df_Product_stock['price_preprop'])\n",
    "Y3=pd.DataFrame(df_Product_stock['number_available_in_stock'])\n",
    "Y1=pd.DataFrame(Y1)"
   ]
  },
  {
   "cell_type": "markdown",
   "id": "8db33507",
   "metadata": {},
   "source": [
    "the aim of the model to prepare 'price_preprop +Y1~ number_available_in_stock"
   ]
  },
  {
   "cell_type": "code",
   "execution_count": 329,
   "id": "9baa52cf",
   "metadata": {},
   "outputs": [
    {
     "data": {
      "text/plain": [
       "pandas.core.frame.DataFrame"
      ]
     },
     "execution_count": 329,
     "metadata": {},
     "output_type": "execute_result"
    }
   ],
   "source": [
    "type(Y1)"
   ]
  },
  {
   "cell_type": "code",
   "execution_count": 331,
   "id": "570b9f79",
   "metadata": {},
   "outputs": [],
   "source": [
    "X_2nd_model=pd.concat([X1,Y1],axis=1)"
   ]
  },
  {
   "cell_type": "code",
   "execution_count": 332,
   "id": "7e2f8dad",
   "metadata": {},
   "outputs": [
    {
     "data": {
      "text/html": [
       "<div>\n",
       "<style scoped>\n",
       "    .dataframe tbody tr th:only-of-type {\n",
       "        vertical-align: middle;\n",
       "    }\n",
       "\n",
       "    .dataframe tbody tr th {\n",
       "        vertical-align: top;\n",
       "    }\n",
       "\n",
       "    .dataframe thead th {\n",
       "        text-align: right;\n",
       "    }\n",
       "</style>\n",
       "<table border=\"1\" class=\"dataframe\">\n",
       "  <thead>\n",
       "    <tr style=\"text-align: right;\">\n",
       "      <th></th>\n",
       "      <th>price_preprop</th>\n",
       "      <th>0</th>\n",
       "    </tr>\n",
       "  </thead>\n",
       "  <tbody>\n",
       "    <tr>\n",
       "      <th>0</th>\n",
       "      <td>0.232996</td>\n",
       "      <td>0.000321</td>\n",
       "    </tr>\n",
       "    <tr>\n",
       "      <th>1</th>\n",
       "      <td>0.929163</td>\n",
       "      <td>0.000321</td>\n",
       "    </tr>\n",
       "    <tr>\n",
       "      <th>2</th>\n",
       "      <td>0.698535</td>\n",
       "      <td>0.000321</td>\n",
       "    </tr>\n",
       "    <tr>\n",
       "      <th>3</th>\n",
       "      <td>1.300921</td>\n",
       "      <td>0.000321</td>\n",
       "    </tr>\n",
       "    <tr>\n",
       "      <th>4</th>\n",
       "      <td>1.206691</td>\n",
       "      <td>0.000321</td>\n",
       "    </tr>\n",
       "    <tr>\n",
       "      <th>...</th>\n",
       "      <td>...</td>\n",
       "      <td>...</td>\n",
       "    </tr>\n",
       "    <tr>\n",
       "      <th>9995</th>\n",
       "      <td>1.059753</td>\n",
       "      <td>NaN</td>\n",
       "    </tr>\n",
       "    <tr>\n",
       "      <th>9996</th>\n",
       "      <td>1.300921</td>\n",
       "      <td>NaN</td>\n",
       "    </tr>\n",
       "    <tr>\n",
       "      <th>9997</th>\n",
       "      <td>1.342324</td>\n",
       "      <td>NaN</td>\n",
       "    </tr>\n",
       "    <tr>\n",
       "      <th>9998</th>\n",
       "      <td>1.396287</td>\n",
       "      <td>NaN</td>\n",
       "    </tr>\n",
       "    <tr>\n",
       "      <th>9999</th>\n",
       "      <td>1.025306</td>\n",
       "      <td>NaN</td>\n",
       "    </tr>\n",
       "  </tbody>\n",
       "</table>\n",
       "<p>10000 rows × 2 columns</p>\n",
       "</div>"
      ],
      "text/plain": [
       "      price_preprop         0\n",
       "0          0.232996  0.000321\n",
       "1          0.929163  0.000321\n",
       "2          0.698535  0.000321\n",
       "3          1.300921  0.000321\n",
       "4          1.206691  0.000321\n",
       "...             ...       ...\n",
       "9995       1.059753       NaN\n",
       "9996       1.300921       NaN\n",
       "9997       1.342324       NaN\n",
       "9998       1.396287       NaN\n",
       "9999       1.025306       NaN\n",
       "\n",
       "[10000 rows x 2 columns]"
      ]
     },
     "execution_count": 332,
     "metadata": {},
     "output_type": "execute_result"
    }
   ],
   "source": [
    "X_2nd_model"
   ]
  },
  {
   "cell_type": "code",
   "execution_count": 339,
   "id": "47a78b1c",
   "metadata": {},
   "outputs": [],
   "source": [
    "X_2nd_model=X_2nd_model.dropna()"
   ]
  },
  {
   "cell_type": "code",
   "execution_count": 340,
   "id": "3eb69887",
   "metadata": {},
   "outputs": [
    {
     "data": {
      "text/plain": [
       "price_preprop    0.000000\n",
       "0                0.000321\n",
       "dtype: float64"
      ]
     },
     "execution_count": 340,
     "metadata": {},
     "output_type": "execute_result"
    }
   ],
   "source": [
    "X_2nd_model.min()"
   ]
  },
  {
   "cell_type": "code",
   "execution_count": 341,
   "id": "6e95989b",
   "metadata": {},
   "outputs": [],
   "source": [
    "y_2nd_model=Y3[0:2000]"
   ]
  },
  {
   "cell_type": "code",
   "execution_count": 342,
   "id": "9fdb61d0",
   "metadata": {},
   "outputs": [
    {
     "data": {
      "text/html": [
       "<div>\n",
       "<style scoped>\n",
       "    .dataframe tbody tr th:only-of-type {\n",
       "        vertical-align: middle;\n",
       "    }\n",
       "\n",
       "    .dataframe tbody tr th {\n",
       "        vertical-align: top;\n",
       "    }\n",
       "\n",
       "    .dataframe thead th {\n",
       "        text-align: right;\n",
       "    }\n",
       "</style>\n",
       "<table border=\"1\" class=\"dataframe\">\n",
       "  <thead>\n",
       "    <tr style=\"text-align: right;\">\n",
       "      <th></th>\n",
       "      <th>number_available_in_stock</th>\n",
       "    </tr>\n",
       "  </thead>\n",
       "  <tbody>\n",
       "    <tr>\n",
       "      <th>0</th>\n",
       "      <td>5</td>\n",
       "    </tr>\n",
       "    <tr>\n",
       "      <th>1</th>\n",
       "      <td>0</td>\n",
       "    </tr>\n",
       "    <tr>\n",
       "      <th>2</th>\n",
       "      <td>2</td>\n",
       "    </tr>\n",
       "    <tr>\n",
       "      <th>3</th>\n",
       "      <td>0</td>\n",
       "    </tr>\n",
       "    <tr>\n",
       "      <th>4</th>\n",
       "      <td>0</td>\n",
       "    </tr>\n",
       "    <tr>\n",
       "      <th>...</th>\n",
       "      <td>...</td>\n",
       "    </tr>\n",
       "    <tr>\n",
       "      <th>1995</th>\n",
       "      <td>13</td>\n",
       "    </tr>\n",
       "    <tr>\n",
       "      <th>1996</th>\n",
       "      <td>3</td>\n",
       "    </tr>\n",
       "    <tr>\n",
       "      <th>1997</th>\n",
       "      <td>0</td>\n",
       "    </tr>\n",
       "    <tr>\n",
       "      <th>1998</th>\n",
       "      <td>6</td>\n",
       "    </tr>\n",
       "    <tr>\n",
       "      <th>1999</th>\n",
       "      <td>0</td>\n",
       "    </tr>\n",
       "  </tbody>\n",
       "</table>\n",
       "<p>2000 rows × 1 columns</p>\n",
       "</div>"
      ],
      "text/plain": [
       "     number_available_in_stock\n",
       "0                            5\n",
       "1                            0\n",
       "2                            2\n",
       "3                            0\n",
       "4                            0\n",
       "...                        ...\n",
       "1995                        13\n",
       "1996                         3\n",
       "1997                         0\n",
       "1998                         6\n",
       "1999                         0\n",
       "\n",
       "[2000 rows x 1 columns]"
      ]
     },
     "execution_count": 342,
     "metadata": {},
     "output_type": "execute_result"
    }
   ],
   "source": [
    "y_2nd_model"
   ]
  },
  {
   "cell_type": "code",
   "execution_count": 343,
   "id": "1c1562b2",
   "metadata": {},
   "outputs": [],
   "source": [
    "X_train_1, X_test_1, Y_train_1, Y_test_1 = train_test_split(X_2nd_model ,y_2nd_model, test_size = 0.20, random_state = 0)"
   ]
  },
  {
   "cell_type": "code",
   "execution_count": 345,
   "id": "93277f43",
   "metadata": {},
   "outputs": [],
   "source": [
    "m2=ML_Model_1.fit(X_train_1,Y_train_1)\n",
    "Y2=m1.predict( X_test_1)"
   ]
  },
  {
   "cell_type": "code",
   "execution_count": 348,
   "id": "1502cf23",
   "metadata": {},
   "outputs": [
    {
     "data": {
      "text/plain": [
       "7.147567141447232"
      ]
     },
     "execution_count": 348,
     "metadata": {},
     "output_type": "execute_result"
    }
   ],
   "source": [
    "mean_poisson_deviance(Y_test_1 ,Y2)"
   ]
  },
  {
   "cell_type": "markdown",
   "id": "d07f0071",
   "metadata": {},
   "source": [
    "# CONCLUSION"
   ]
  },
  {
   "cell_type": "markdown",
   "id": "8fd3e3df",
   "metadata": {},
   "source": [
    "We can increase the performance of the model by increasing the data as well as, tuning hyperparameters, the project aims to develop a system that can predict the future stock of a product based on the popularity factor ( from customers' sentiment analysis) and price. By understanding the future stock we can estimate how much funds will be required for product promotion as well as quality improvement. With a proper plan of cash flow, we can optimize the risk of operation."
   ]
  },
  {
   "cell_type": "code",
   "execution_count": null,
   "id": "587cbf7b",
   "metadata": {},
   "outputs": [],
   "source": []
  }
 ],
 "metadata": {
  "kernelspec": {
   "display_name": "Python 3 (ipykernel)",
   "language": "python",
   "name": "python3"
  },
  "language_info": {
   "codemirror_mode": {
    "name": "ipython",
    "version": 3
   },
   "file_extension": ".py",
   "mimetype": "text/x-python",
   "name": "python",
   "nbconvert_exporter": "python",
   "pygments_lexer": "ipython3",
   "version": "3.9.7"
  }
 },
 "nbformat": 4,
 "nbformat_minor": 5
}
